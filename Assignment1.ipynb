{
 "cells": [
  {
   "cell_type": "markdown",
   "metadata": {},
   "source": [
    "# **Working with NumPy**\n",
    "\n",
    "You are to only write/modify the code in between consecutive `# < START >` and `# < END >` comments. \n",
    "```python\n",
    "\"Don't modify any code here\"\n",
    "\n",
    "# < START >\n",
    "\"YOUR CODE GOES HERE!\"\n",
    "# < END >\n",
    "\n",
    "\"Don't modify any code here\"\n",
    "```\n",
    "\n",
    "<!---Need to include clarification about arrays?-->\n",
    "\n",
    "**Start by running the below cell, to import the NumPy library.**"
   ]
  },
  {
   "cell_type": "code",
   "execution_count": 1,
   "metadata": {},
   "outputs": [],
   "source": [
    "import numpy as np"
   ]
  },
  {
   "cell_type": "markdown",
   "metadata": {},
   "source": [
    "### **Initializating Arrays**\n",
    "NumPy offers multiple methods to create and populate arrays\n",
    "- Create a $2\\times3$ array identical to\n",
    "$\\begin{bmatrix}\n",
    "1 & 2 & 4\\\\\n",
    "7 & 13 & 21\\\\\n",
    "\\end{bmatrix}$, and assign it to a variable `arr`.  "
   ]
  },
  {
   "cell_type": "code",
   "execution_count": null,
   "metadata": {},
   "outputs": [],
   "source": [
    "# < START >\n",
    "\n",
    "# < END >\n",
    "\n",
    "print(arr)\n",
    "print(\"Shape:\", arr.shape)"
   ]
  },
  {
   "cell_type": "markdown",
   "metadata": {},
   "source": [
    "You should be able to see that the `shape` property of an array lets you access its dimensions.  \n",
    "For us, this is a handy way to ensure that the dimensions of an array are what we expect, allowing us to easily debug programs.\n",
    "\n",
    "- Initialize a NumPy array `x` of dimensions $2\\times3$ with random values.  \n",
    "Do not use the values of the dimensions directly, instead use the variables provided as arguments.\n",
    "<details>\n",
    "  <summary>Hint</summary>\n",
    "  <a href=\"https://numpy.org/doc/stable/reference/random/generated/numpy.random.randn.html#numpy-random-randn\">np.random.randn()</a>\n",
    "</details>"
   ]
  },
  {
   "cell_type": "code",
   "execution_count": null,
   "metadata": {},
   "outputs": [],
   "source": [
    "n_rows = 2\n",
    "n_columns = 3\n",
    "\n",
    "# <START>\n",
    "\n",
    "# <END>\n",
    "\n",
    "print(x)"
   ]
  },
  {
   "cell_type": "markdown",
   "metadata": {},
   "source": [
    "A few more basic methods to initialize arrays exist.\n",
    "Feel free to read up online to complete the code snippets."
   ]
  },
  {
   "cell_type": "code",
   "execution_count": null,
   "metadata": {},
   "outputs": [],
   "source": [
    "# < START >\n",
    "# Initialize an array ZERO_ARR of dimensions (4, 5, 2) whose every element is 0\n",
    "\n",
    "# < END >\n",
    "\n",
    "print(ZERO_ARR)\n",
    "\n",
    "# < START >\n",
    "# Initialize an array ONE_ARR of dimensions (4, 5, 2) whose every element is 1\n",
    "\n",
    "# < END >\n",
    "\n",
    "print(ONE_ARR)"
   ]
  },
  {
   "cell_type": "markdown",
   "metadata": {},
   "source": [
    "You can also transpose arrays (same as with matrices), but a more general and commonly used function is the `array.reshape()` function.\n",
    "\n",
    "$$\n",
    "\\begin{bmatrix}\n",
    "a & d\\\\\n",
    "b & e\\\\\n",
    "c & f\\\\\n",
    "\\end{bmatrix}\n",
    "\\xleftarrow{\\text{.T}}\n",
    "\\begin{bmatrix}\n",
    "a & b & c\\\\\n",
    "d & e & f\\\\\n",
    "\\end{bmatrix}\n",
    "\\xrightarrow{\\text{.reshape(3, 2)}}\n",
    "\\begin{bmatrix}\n",
    "a & b\\\\\n",
    "c & d\\\\\n",
    "e & f\\\\\n",
    "\\end{bmatrix}\n",
    "\\xrightarrow{\\text{.reshape(6,1)}}\n",
    "\\begin{bmatrix}\n",
    "a\\\\b\\\\c\\\\d\\\\e\\\\f\\\\\n",
    "\\end{bmatrix}\n",
    "$$\n",
    "`reshape` is commonly used to flatten data stored in multi-dimensional arrays (ex: a 2D array representing a B/W image)\n",
    "\n",
    "- Try it out yourself:"
   ]
  },
  {
   "cell_type": "code",
   "execution_count": null,
   "metadata": {},
   "outputs": [],
   "source": [
    "y = np.array([[1, 2, 3],\n",
    "              [4, 5, 6]])\n",
    "\n",
    "# < START >\n",
    "# Create a new array y_transpose that is the transpose of matrix y\n",
    "\n",
    "# < END >\n",
    "\n",
    "print(y_transpose)\n",
    "\n",
    "# < START >\n",
    "# Create a new array y_flat that contains the same elements as y but has been flattened to a column array\n",
    "\n",
    "# < END >\n",
    "\n",
    "print(y_flat)"
   ]
  },
  {
   "cell_type": "markdown",
   "metadata": {},
   "source": [
    "- Create a `y` with dimensions $3\\times1$ (column matrix), with elements $4,7$ and $11$.  \n",
    "$$y = \\begin{bmatrix}\n",
    "4\\\\\n",
    "7\\\\\n",
    "11\n",
    "\\end{bmatrix}$$  "
   ]
  },
  {
   "cell_type": "code",
   "execution_count": null,
   "metadata": {},
   "outputs": [],
   "source": [
    "# <START>\n",
    "# Initialize the column matrix here\n",
    "\n",
    "# <END>\n",
    "\n",
    "assert y.shape == (3, 1)\n",
    "# The above line is an assert statement, which halts the program if the given condition evaluates to False.\n",
    "# Assert statements are frequently used in neural network programs to ensure our matrices are of the right dimensions.\n",
    "\n",
    "print(y)\n",
    "\n",
    "# <START>\n",
    "# Multiply both the arrays here\n",
    "\n",
    "# <END>\n",
    "\n",
    "assert z.shape == (2, 1)\n",
    "\n",
    "print(z)"
   ]
  },
  {
   "cell_type": "markdown",
   "metadata": {},
   "source": [
    "### **Indexing & Slicing**\n",
    "Just like with normal arrays, you can access an element at the `(i,j)` position using `array[i][j]`.  \n",
    "However, NumPy allows you to do the same using `array[i, j]`, and this form is more efficient and simpler to use.\n",
    "<details>\n",
    "<summary><i>(Optional) Why is it more efficient?</i></summary>\n",
    "The former case is more inefficient as a new temporary array is created after the first index i, that is then indexed by j.\n",
    "</details>\n",
    "\n",
    "```python\n",
    "x = np.array([[1,3,5],[4,7,11],[5,10,20]])\n",
    "\n",
    "x[1][2] #11\n",
    "x[1,2]  #11 <-- Prefer this\n",
    "```\n",
    "\n",
    "Slicing is another important feature of NumPy arrays. The syntax is the same as that of slicing in Python lists.\n",
    "  We pass the slice as\n",
    "\n",
    "```python\n",
    "  sliced_array = array[start:end:step]\n",
    "  # The second colon (:) is only needed\n",
    "  # if you want to use a step other than 1\n",
    "```\n",
    "By default, `start` is 0, `end` is the array length (in that dimension), and `step` is 1.\n",
    "Remember that `end` is not included in the slice.\n",
    "\n",
    "  Implement array slicing as instructed in the following examples\n",
    "\n"
   ]
  },
  {
   "cell_type": "code",
   "execution_count": null,
   "metadata": {},
   "outputs": [],
   "source": [
    "x = np.array([4, 1, 5, 6, 11])\n",
    "\n",
    "# <START>\n",
    "# Create a new array y with the middle 3 elements of x\n",
    "\n",
    "# <END>\n",
    "\n",
    "print(y)\n",
    "\n",
    "z = np.array([1, 2, 3, 4, 5, 6, 7, 8, 9, 10])\n",
    "\n",
    "# <START>\n",
    "# Create a new array w with alternating elements of z\n",
    "\n",
    "# <END>\n",
    "\n",
    "print(w)"
   ]
  },
  {
   "cell_type": "markdown",
   "metadata": {},
   "source": [
    "A combination of indexing and slicing can be used to access rows, columns and sub-arrays of 2D arrays.\n",
    "\n",
    "```python\n",
    "arr = np.array([\n",
    "          [1, 2, 3],\n",
    "          [4, 5, 6],\n",
    "          [7, 8, 9]])\n",
    "\n",
    "print(arr[0])       #[1 2 3]\n",
    "print(arr[:,2])     #[3 6 9]\n",
    "print(arr[0:2,0:2]) #[[1 2]\n",
    "                    # [4 5]]\n",
    "```"
   ]
  },
  {
   "cell_type": "code",
   "execution_count": null,
   "metadata": {},
   "outputs": [],
   "source": [
    "arr_2d = np.array([[4, 5, 2],\n",
    "          [3, 7, 9],\n",
    "          [1, 4, 5],\n",
    "          [6, 6, 1]])\n",
    "\n",
    "# <START>\n",
    "# Create a 2D array sliced_arr_2d that is of the form [[5, 2], [7, 9], [4, 5]]\n",
    "\n",
    "# <END>\n",
    "\n",
    "print(sliced_arr_2d)"
   ]
  },
  {
   "cell_type": "markdown",
   "metadata": {},
   "source": [
    "### **Broadcasting**\n",
    "\n",
    "This feature allows for flexibility in array operations. It lets us implement highly efficient algorithms with minimal use of memory."
   ]
  },
  {
   "cell_type": "code",
   "execution_count": null,
   "metadata": {},
   "outputs": [],
   "source": [
    "arr1 = np.array([1, 2, 3, 4])\n",
    "b = 1\n",
    "\n",
    "# <START>\n",
    "# Implement broadcasting to add b to each element of arr1\n",
    "\n",
    "# <END>\n",
    "\n",
    "print(arr1)\n",
    "\n",
    "arr2 = np.array([[1, 2, 3],\n",
    "                 [4, 5, 6]])\n",
    "arr3 = np.array([[4],\n",
    "                 [5]])\n",
    "\n",
    "# <START>\n",
    "# Multiply each element of the first row of arr2 by 4 and each element of the second row by 5, using only arr2 and arr3\n",
    "\n",
    "# <END>\n",
    "\n",
    "print(arr2)"
   ]
  },
  {
   "cell_type": "markdown",
   "metadata": {},
   "source": [
    "### **Vectorization**\n",
    "\n",
    "From what we've covered so far, it might not be clear as to why we need to use vectorization. To understand this, let's compare the execution times of a non-vectorized program and a vectorized one.\n",
    "\n",
    "Your goal is to multiply each element of the 2D arrays by 3. Implement this using both non-vectorized and vectorized approaches."
   ]
  },
  {
   "cell_type": "code",
   "execution_count": null,
   "metadata": {},
   "outputs": [],
   "source": [
    "import time\n",
    "\n",
    "arr_nonvectorized = np.random.rand(1000, 1000)\n",
    "arr_vectorized = np.array(arr_nonvectorized) # making a deep copy of the array\n",
    "\n",
    "start_nv = time.time()\n",
    "\n",
    "# Non-vectorized approach\n",
    "# <START>\n",
    "\n",
    "\n",
    "\n",
    "# <END>\n",
    "\n",
    "end_nv = time.time()\n",
    "print(\"Time taken in non-vectorized approach:\", 1000*(end_nv-start_nv), \"ms\")\n",
    "\n",
    "# uncomment and execute the below line to convince yourself that both approaches are doing the same thing\n",
    "# print(arr_nonvectorized)\n",
    "\n",
    "start_v = time.time()\n",
    "\n",
    "# Vectorized approach\n",
    "# <START>\n",
    "\n",
    "# <END>\n",
    "\n",
    "end_v = time.time()\n",
    "print(\"Time taken in vectorized approach:\", 1000*(end_v-start_v), \"ms\")\n",
    "\n",
    "# uncomment and execute the below line to convince yourself that both approaches are doing the same thing\n",
    "# print(arr_vectorized)"
   ]
  },
  {
   "cell_type": "markdown",
   "metadata": {},
   "source": [
    "# **Working with Pandas and Matpllotlib**\n",
    "Here you will use Pandas Library to analyse the Census(2011) to answer the following questions :\n",
    "\n",
    "- How does the literacy rate for males, females, and the total population differ between urban and rural areas within each state?\n",
    "    - Which state has the highest disparity between urban and rural areas. Also plot 2 graphs for male and female population showing combined literacy rates for each state.\n",
    "\n",
    "- What is the distribution of the working population (main and marginal workers) by sector (cultivators, agricultural labourers, household industry, other workers) and gender across different states?\n",
    "    - Plot a graph showing all these sectors together for top 5 employed states.\n",
    "\n",
    "- How does the literacy rate of a district affect the population aged 0 to 6 yrs within that district ? Does there seem to be a trend ?\n",
    "    - Print the top 10 most literate districts and the percentage of population that is between 0 to 6 yrs, similarly do this for 10 least literate districts.\n",
    "\n",
    "- Does literacy rates and employment rate show any similarity in their trend? \n",
    "    - Support your argument by showing a plot of literacy rates and employment rates for each state.\n",
    "\n",
    "- The dataset can be accessed from this gdrive link [Dataset](https://drive.google.com/drive/folders/1vU1tyqLwvU1FXr30SCzv__1G1bmiUKO_?usp=sharing)"
   ]
  },
  {
   "cell_type": "code",
   "execution_count": null,
   "metadata": {},
   "outputs": [],
   "source": [
    "import pandas as pd\n",
    "from matplotlib import pyplot as plt"
   ]
  },
  {
   "cell_type": "code",
   "execution_count": null,
   "metadata": {},
   "outputs": [],
   "source": [
    "data = pd.read_csv('NDAP_REPORT_6000.csv')"
   ]
  }
 ],
 "metadata": {
  "kernelspec": {
   "display_name": "Py_env",
   "language": "python",
   "name": "python3"
  },
  "language_info": {
   "codemirror_mode": {
    "name": "ipython",
    "version": 3
   },
   "file_extension": ".py",
   "mimetype": "text/x-python",
   "name": "python",
   "nbconvert_exporter": "python",
   "pygments_lexer": "ipython3",
   "version": "3.11.4"
  }
 },
 "nbformat": 4,
 "nbformat_minor": 2
}
